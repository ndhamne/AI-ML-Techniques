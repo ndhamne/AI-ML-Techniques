{
 "cells": [
  {
   "cell_type": "code",
   "execution_count": null,
   "metadata": {},
   "outputs": [],
   "source": [
    "import cv2\n",
    "import numpy as np\n",
    "\n",
    "nPlateCascade = cv2.CascadeClassifier(\"Resources/haarcascade_russian_plate_number.xml\")\n",
    "minArea = 500\n",
    "color = (255,255,0)\n",
    "count = 0\n",
    "img = cv2.imread(\"Resources/numplate_1.jpg\")\n",
    "\n",
    "while True:\n",
    "    cv2.imshow(\"Output\", img)\n",
    "    imgGray = cv2.cvtColor(img,cv2.COLOR_BGR2GRAY)\n",
    "    numberplates = nPlateCascade.detectMultiScale(imgGray,1.1,4)\n",
    "    for (x,y,w,h) in numberplates:\n",
    "        #Adding a filter\n",
    "        area=w*h\n",
    "        if area>minArea:\n",
    "            cv2.rectangle(img,(x,y),(x+w,y+h),(255,255,0),2)\n",
    "            cv2.putText(img,\"Number Plate\",(x,y-5), \n",
    "                       cv2.FONT_HERSHEY_COMPLEX_SMALL,1,color,2)\n",
    "            imgROI=img[y:y+h,x:x+w]\n",
    "            cv2.imshow(\"ROI\",imgROI)\n",
    "\n",
    "    if cv2.waitKey(1) & 0xFF == ord('s'):\n",
    "        cv2.imwrite(\"Resources/Scanned/NoPlate_\"+str(count)+\".jpg\",imgROI)\n",
    "        cv2.rectangle(img,(0,200),(640,300),(0,255,0),cv2.FILLED)\n",
    "        cv2.putText(img,\"Scan saved\",(150,265),\n",
    "                    cv2.FONT_HERSHEY_COMPLEX_SMALL,2,(0,0,255),2)\n",
    "        cv2.imshow(\"Results\",img)\n",
    "        cv2.waitKey(1000)\n",
    "        count += 1"
   ]
  },
  {
   "cell_type": "code",
   "execution_count": null,
   "metadata": {},
   "outputs": [],
   "source": []
  }
 ],
 "metadata": {
  "kernelspec": {
   "display_name": "Python 3",
   "language": "python",
   "name": "python3"
  },
  "language_info": {
   "codemirror_mode": {
    "name": "ipython",
    "version": 3
   },
   "file_extension": ".py",
   "mimetype": "text/x-python",
   "name": "python",
   "nbconvert_exporter": "python",
   "pygments_lexer": "ipython3",
   "version": "3.8.3"
  }
 },
 "nbformat": 4,
 "nbformat_minor": 4
}
